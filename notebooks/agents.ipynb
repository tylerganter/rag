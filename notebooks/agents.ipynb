{
 "cells": [
  {
   "cell_type": "markdown",
   "id": "5275fb4f-12f6-4a58-972d-27fd761e04e5",
   "metadata": {},
   "source": [
    "# Agent Sandbox"
   ]
  },
  {
   "cell_type": "code",
   "execution_count": 40,
   "id": "5b803e87-1280-4d6a-9dcd-84c8938e0a36",
   "metadata": {},
   "outputs": [],
   "source": [
    "import os\n",
    "\n",
    "import nest_asyncio\n",
    "from langfuse.llama_index import LlamaIndexCallbackHandler\n",
    "from llama_index.core import Settings, SimpleDirectoryReader, VectorStoreIndex\n",
    "from llama_index.core.agent import ReActAgent\n",
    "from llama_index.core.callbacks import CallbackManager\n",
    "from llama_index.core.tools import FunctionTool, QueryEngineTool\n",
    "from llama_index.embeddings.ollama import OllamaEmbedding\n",
    "from llama_index.llms.ollama import Ollama\n",
    "from rich import print\n",
    "\n",
    "nest_asyncio.apply()"
   ]
  },
  {
   "cell_type": "code",
   "execution_count": 2,
   "id": "20b142cc",
   "metadata": {},
   "outputs": [],
   "source": [
    "langfuse_callback_handler = LlamaIndexCallbackHandler(\n",
    "    public_key=\"pk-lf-363e8a50-c2ef-4622-b47b-0fd9db3b90eb\",\n",
    "    secret_key=os.environ[\"LANGFUSE_SECRET_KEY\"],\n",
    "    host=\"http://localhost:3000\",\n",
    ")\n",
    "Settings.callback_manager = CallbackManager([langfuse_callback_handler])"
   ]
  },
  {
   "cell_type": "code",
   "execution_count": 8,
   "id": "e4a0bedd",
   "metadata": {},
   "outputs": [],
   "source": [
    "def multiply(a: float, b: float) -> float:\n",
    "    \"\"\"Multiply two numbers and returns the product\"\"\"\n",
    "    return a * b\n",
    "\n",
    "\n",
    "multiply_tool = FunctionTool.from_defaults(fn=multiply)\n",
    "\n",
    "\n",
    "def add(a: float, b: float) -> float:\n",
    "    \"\"\"Add two numbers and returns the sum\"\"\"\n",
    "    return a + b\n",
    "\n",
    "\n",
    "add_tool = FunctionTool.from_defaults(fn=add)"
   ]
  },
  {
   "cell_type": "code",
   "execution_count": null,
   "id": "bab620f9-3935-4ab3-a473-e58f0b37a4a6",
   "metadata": {},
   "outputs": [],
   "source": [
    "# MODEL = \"llama3.2:1b\"  #        90 TPS     errors out\n",
    "# MODEL = \"deepseek-r1:1.5b\"  #   80 TPS\n",
    "# MODEL = \"gemma2:2b\"  #          60 TPS\n",
    "# MODEL = \"llama3.2:3b\"         # 50 TPS    works...okay\n",
    "# MODEL = \"mistral:7b\"          # 30 TPS    struggling...\n",
    "# MODEL = \"deepseek-r1:7b\"      # 27 TPS    doesn't call tools\n",
    "# MODEL = \"llama3.1:8b\"         # 24 TPS    works...okay\n",
    "MODEL = \"gemma2:9b\"  #          19 TPS    works well!\n",
    "# MODEL = \"phi4:14b\"  #           11 TPS    works well!\n",
    "# MODEL = \"deepseek-r1:14b\"     # 13 TPS\n",
    "# MODEL = \"llama3.3:70b\"        # ?? TPS\n",
    "\n",
    "EMBEDDER = \"all-minilm\"  # 384\n",
    "# EMBEDDER = \"nomic-embed-text\" # 768\n",
    "# EMBEDDER = \"bge-m3\" # 1024\n",
    "# EMBEDDER = MODEL\n",
    "\n",
    "llm = Ollama(model=MODEL, request_timeout=120.0)\n",
    "# Settings.llm = llm\n",
    "Settings.embed_model = OllamaEmbedding(model_name=EMBEDDER)\n",
    "\n",
    "agent = ReActAgent.from_tools(\n",
    "    [multiply_tool, add_tool],\n",
    "    llm=llm,\n",
    "    verbose=True,\n",
    ")\n",
    "\n",
    "# print(llm)\n",
    "response = agent.chat(\n",
    "    # \"What is 20+(2*4)? Use a tool to calculate every step.\",\n",
    "    \"What is 2087213784617864+(284757845*4812346789764)? Use a tool to calculate every step.\",\n",
    ")\n",
    "print(response)"
   ]
  },
  {
   "cell_type": "code",
   "execution_count": 37,
   "id": "c455c805",
   "metadata": {},
   "outputs": [],
   "source": [
    "documents = SimpleDirectoryReader(\"../data/llama_index/\").load_data()\n",
    "index = VectorStoreIndex.from_documents(documents)\n",
    "query_engine = index.as_query_engine()"
   ]
  },
  {
   "cell_type": "code",
   "execution_count": null,
   "id": "d42079aa",
   "metadata": {},
   "outputs": [],
   "source": [
    "response = query_engine.query(\n",
    "    \"What was the total amount of the 2023 Canadian federal budget?\"\n",
    ")\n",
    "print(response.response)"
   ]
  },
  {
   "cell_type": "code",
   "execution_count": 41,
   "id": "5ae16294",
   "metadata": {},
   "outputs": [],
   "source": [
    "budget_tool = QueryEngineTool.from_defaults(\n",
    "    query_engine,\n",
    "    name=\"canadian_budget_2023\",\n",
    "    description=\"A RAG engine with some basic facts about the 2023 Canadian federal budget.\",\n",
    ")\n",
    "agent = ReActAgent.from_tools([multiply_tool, add_tool, budget_tool], verbose=True)"
   ]
  },
  {
   "cell_type": "code",
   "execution_count": null,
   "id": "6f39d36d",
   "metadata": {},
   "outputs": [],
   "source": [
    "response = agent.chat(\n",
    "    \"What is the total amount of the 2023 Canadian federal budget multiplied by 3? Go step by step, using a tool to do any math.\"\n",
    ")\n",
    "\n",
    "print(response)"
   ]
  },
  {
   "cell_type": "code",
   "execution_count": null,
   "id": "dfb050e5",
   "metadata": {},
   "outputs": [],
   "source": []
  }
 ],
 "metadata": {
  "kernelspec": {
   "display_name": "rag313",
   "language": "python",
   "name": "python3"
  },
  "language_info": {
   "codemirror_mode": {
    "name": "ipython",
    "version": 3
   },
   "file_extension": ".py",
   "mimetype": "text/x-python",
   "name": "python",
   "nbconvert_exporter": "python",
   "pygments_lexer": "ipython3",
   "version": "3.13.2"
  }
 },
 "nbformat": 4,
 "nbformat_minor": 5
}
