{
 "cells": [
  {
   "cell_type": "markdown",
   "id": "5275fb4f-12f6-4a58-972d-27fd761e04e5",
   "metadata": {},
   "source": [
    "# Ingest"
   ]
  },
  {
   "cell_type": "code",
   "execution_count": 1,
   "id": "5b803e87-1280-4d6a-9dcd-84c8938e0a36",
   "metadata": {},
   "outputs": [],
   "source": [
    "from llama_index.core import Settings, SimpleDirectoryReader, VectorStoreIndex\n",
    "# from llama_index.core.node_parser import SentenceSplitter\n",
    "from llama_index.embeddings.ollama import OllamaEmbedding\n",
    "from llama_index.llms.ollama import Ollama\n",
    "from rich import print"
   ]
  },
  {
   "cell_type": "code",
   "execution_count": 2,
   "id": "bab620f9-3935-4ab3-a473-e58f0b37a4a6",
   "metadata": {},
   "outputs": [],
   "source": [
    "MODEL = \"llama3.2:1b\"\n",
    "# MODEL = \"deepseek-r1:1.5b\"\n",
    "# MODEL = \"gemma2:2b\"\n",
    "# MODEL = \"llama3.2:3b\"\n",
    "# MODEL = \"mistral:7b\"\n",
    "# MODEL = \"deepseek-r1:7b\"\n",
    "# MODEL = \"llama3.1:8b\"\n",
    "# MODEL = \"gemma2:9b\"\n",
    "# MODEL = \"phi4:14b\"\n",
    "# MODEL = \"deepseek-r1:14b\"\n",
    "# MODEL = \"llama3.3:70b\"\n",
    "\n",
    "EMBEDDER = \"all-minilm\"  # 384\n",
    "# EMBEDDER = \"nomic-embed-text\" # 768\n",
    "# EMBEDDER = \"bge-m3\" # 1024\n",
    "# EMBEDDER = MODEL\n",
    "\n",
    "llm = Ollama(model=MODEL, request_timeout=60.0)\n",
    "# Settings.llm = llm\n",
    "Settings.embed_model = OllamaEmbedding(model_name=EMBEDDER)\n",
    "\n",
    "# Settings.text_splitter = SentenceSplitter(chunk_size=512, chunk_overlap=10)"
   ]
  },
  {
   "cell_type": "code",
   "execution_count": 3,
   "id": "a0c635f0",
   "metadata": {},
   "outputs": [],
   "source": [
    "documents = SimpleDirectoryReader(\"../data\").load_data()"
   ]
  },
  {
   "cell_type": "code",
   "execution_count": 4,
   "id": "93a5a877",
   "metadata": {},
   "outputs": [],
   "source": [
    "# print(documents[100])"
   ]
  },
  {
   "cell_type": "code",
   "execution_count": 5,
   "id": "0aa9819b",
   "metadata": {},
   "outputs": [],
   "source": [
    "vector_index = VectorStoreIndex.from_documents(documents)\n",
    "vector_index.storage_context.persist(persist_dir=\"../out/simple_default\")"
   ]
  },
  {
   "cell_type": "code",
   "execution_count": null,
   "id": "de13cf44",
   "metadata": {},
   "outputs": [],
   "source": [
    "query_engine = vector_index.as_query_engine()\n",
    "\n",
    "response = query_engine.query(\"Who is Tyler?\")\n",
    "print(response)"
   ]
  }
 ],
 "metadata": {
  "kernelspec": {
   "display_name": "rag313",
   "language": "python",
   "name": "python3"
  },
  "language_info": {
   "codemirror_mode": {
    "name": "ipython",
    "version": 3
   },
   "file_extension": ".py",
   "mimetype": "text/x-python",
   "name": "python",
   "nbconvert_exporter": "python",
   "pygments_lexer": "ipython3",
   "version": "3.13.2"
  }
 },
 "nbformat": 4,
 "nbformat_minor": 5
}
