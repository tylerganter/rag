{
 "cells": [
  {
   "cell_type": "markdown",
   "id": "5275fb4f-12f6-4a58-972d-27fd761e04e5",
   "metadata": {},
   "source": [
    "# LLM Inference"
   ]
  },
  {
   "cell_type": "code",
   "execution_count": 26,
   "id": "5b803e87-1280-4d6a-9dcd-84c8938e0a36",
   "metadata": {},
   "outputs": [],
   "source": [
    "import os\n",
    "import time\n",
    "\n",
    "from IPython.display import Markdown, clear_output, display\n",
    "from langfuse.llama_index import LlamaIndexCallbackHandler\n",
    "from llama_index.core import Settings\n",
    "from llama_index.core.callbacks import CallbackManager\n",
    "from llama_index.llms.ollama import Ollama\n",
    "from rich import print as rich_print"
   ]
  },
  {
   "cell_type": "code",
   "execution_count": 76,
   "id": "20b142cc",
   "metadata": {},
   "outputs": [],
   "source": [
    "langfuse_callback_handler = LlamaIndexCallbackHandler(\n",
    "    public_key=\"pk-lf-363e8a50-c2ef-4622-b47b-0fd9db3b90eb\",\n",
    "    secret_key=os.environ[\"LANGFUSE_SECRET_KEY\"],\n",
    "    host=\"http://localhost:3000\",\n",
    ")\n",
    "Settings.callback_manager = CallbackManager([langfuse_callback_handler])\n",
    "\n",
    "# Set context window\n",
    "# Settings.context_window = 4096\n",
    "\n",
    "# Set number of output tokens\n",
    "# Settings.num_output = 1\n",
    "# Settings.num_output = 512\n",
    "\n",
    "MODEL = \"llama3.2:1b\"  # 90 TPS\n",
    "# MODEL = \"deepseek-r1:1.5b\"    # 80 TPS\n",
    "# MODEL = \"gemma2:2b\"           # 60 TPS\n",
    "# MODEL = \"llama3.2:3b\"         # 50 TPS\n",
    "# MODEL = \"mistral:7b\"          # 30 TPS\n",
    "# MODEL = \"deepseek-r1:7b\"      # 27 TPS\n",
    "# MODEL = \"llama3.1:8b\"         # 24 TPS\n",
    "# MODEL = \"gemma2:9b\"           # 19 TPS\n",
    "# MODEL = \"phi4:14b\"            # 11 TPS\n",
    "# MODEL = \"deepseek-r1:14b\"     # 13 TPS\n",
    "# MODEL = \"llama3.3:70b\"        # ?? TPS\n",
    "\n",
    "llm = Ollama(model=MODEL, request_timeout=60.0, additional_kwargs={\"num_predict\": 256})\n",
    "Settings.llm = llm"
   ]
  },
  {
   "cell_type": "code",
   "execution_count": null,
   "id": "ed0d8831",
   "metadata": {},
   "outputs": [],
   "source": [
    "response = llm.stream_complete(\n",
    "    # \"What is the capital of France?\",\n",
    "    # \"What happened in Tiananmen Square in 1989?\",\n",
    "    # \"What is 965 * 104?\",\n",
    "    \"Tell me a short story about a robot.\",\n",
    ")\n",
    "start_time = time.time()\n",
    "for token in response:\n",
    "    # print(token.delta, end=\"\", flush=True)\n",
    "    clear_output(wait=True)\n",
    "    display(Markdown(f\"### `{llm.model}`\\n\\n\" + token.text))\n",
    "# completion_text = token.text\n",
    "generation_time = time.time() - start_time\n",
    "token.text = None\n",
    "print(f\"TPS: {token.raw['usage']['completion_tokens']/generation_time:.3f}\")\n",
    "rich_print(token)\n",
    "# display(Markdown(completion_text))"
   ]
  },
  {
   "cell_type": "code",
   "execution_count": 33,
   "id": "09dd0dde",
   "metadata": {},
   "outputs": [],
   "source": [
    "# response = llm.complete(\n",
    "#     \"What is the capital of France?\",\n",
    "# )\n",
    "# rich_print(response)"
   ]
  },
  {
   "cell_type": "code",
   "execution_count": null,
   "id": "4b6ff2ae",
   "metadata": {},
   "outputs": [],
   "source": [
    "# 965 * 104"
   ]
  },
  {
   "cell_type": "code",
   "execution_count": null,
   "id": "b1315a71",
   "metadata": {},
   "outputs": [],
   "source": []
  }
 ],
 "metadata": {
  "kernelspec": {
   "display_name": "rag313",
   "language": "python",
   "name": "python3"
  },
  "language_info": {
   "codemirror_mode": {
    "name": "ipython",
    "version": 3
   },
   "file_extension": ".py",
   "mimetype": "text/x-python",
   "name": "python",
   "nbconvert_exporter": "python",
   "pygments_lexer": "ipython3",
   "version": "3.13.2"
  }
 },
 "nbformat": 4,
 "nbformat_minor": 5
}
