{
 "cells": [
  {
   "cell_type": "markdown",
   "id": "5275fb4f-12f6-4a58-972d-27fd761e04e5",
   "metadata": {},
   "source": [
    "# RAG Sandbox"
   ]
  },
  {
   "cell_type": "code",
   "execution_count": 17,
   "id": "5b803e87-1280-4d6a-9dcd-84c8938e0a36",
   "metadata": {},
   "outputs": [],
   "source": [
    "import os\n",
    "\n",
    "import nest_asyncio\n",
    "from langfuse.llama_index import LlamaIndexCallbackHandler\n",
    "from llama_index.core import Settings, StorageContext, load_index_from_storage\n",
    "from llama_index.core.callbacks import CallbackManager\n",
    "from llama_index.core.evaluation import (FaithfulnessEvaluator,\n",
    "                                         RetrieverEvaluator)\n",
    "from llama_index.embeddings.ollama import OllamaEmbedding\n",
    "from llama_index.llms.ollama import Ollama\n",
    "from rich import print\n",
    "\n",
    "nest_asyncio.apply()"
   ]
  },
  {
   "cell_type": "code",
   "execution_count": 2,
   "id": "20b142cc",
   "metadata": {},
   "outputs": [],
   "source": [
    "langfuse_callback_handler = LlamaIndexCallbackHandler(\n",
    "    public_key=\"pk-lf-363e8a50-c2ef-4622-b47b-0fd9db3b90eb\",\n",
    "    secret_key=os.environ[\"LANGFUSE_SECRET_KEY\"],\n",
    "    host=\"http://localhost:3000\",\n",
    ")\n",
    "Settings.callback_manager = CallbackManager([langfuse_callback_handler])"
   ]
  },
  {
   "cell_type": "code",
   "execution_count": 4,
   "id": "bab620f9-3935-4ab3-a473-e58f0b37a4a6",
   "metadata": {},
   "outputs": [],
   "source": [
    "MODEL = \"llama3.2:1b\"\n",
    "# MODEL = \"deepseek-r1:1.5b\"\n",
    "# MODEL = \"gemma2:2b\"\n",
    "# MODEL = \"llama3.2:3b\"\n",
    "# MODEL = \"mistral:7b\"\n",
    "# MODEL = \"deepseek-r1:7b\"\n",
    "# MODEL = \"llama3.1:8b\"\n",
    "# MODEL = \"gemma2:9b\"\n",
    "# MODEL = \"phi4:14b\"\n",
    "# MODEL = \"deepseek-r1:14b\"\n",
    "# MODEL = \"llama3.3:70b\"\n",
    "\n",
    "EMBEDDER = \"all-minilm\"  # 384\n",
    "# EMBEDDER = \"nomic-embed-text\" # 768\n",
    "# EMBEDDER = \"bge-m3\" # 1024\n",
    "# EMBEDDER = MODEL\n",
    "\n",
    "llm = Ollama(model=MODEL, request_timeout=60.0)\n",
    "# Settings.llm = llm\n",
    "Settings.embed_model = OllamaEmbedding(model_name=EMBEDDER)"
   ]
  },
  {
   "cell_type": "code",
   "execution_count": null,
   "id": "09dd0dde",
   "metadata": {},
   "outputs": [],
   "source": [
    "response = llm.complete(\"What is the capital of France?\")\n",
    "print(response)"
   ]
  },
  {
   "cell_type": "code",
   "execution_count": 7,
   "id": "ed0d8831",
   "metadata": {},
   "outputs": [],
   "source": [
    "# response = llm.stream_complete(\"Tell me a short story about a robot.\")\n",
    "# for token in response:\n",
    "#     print(token.delta, end=\"\", flush=True)"
   ]
  },
  {
   "cell_type": "code",
   "execution_count": 10,
   "id": "0c97d3c3",
   "metadata": {},
   "outputs": [],
   "source": [
    "storage_context = StorageContext.from_defaults(persist_dir=\"../out/simple_default/\")\n",
    "index = load_index_from_storage(storage_context)\n",
    "query_engine = index.as_query_engine()\n",
    "\n",
    "evaluator = FaithfulnessEvaluator(llm=llm)"
   ]
  },
  {
   "cell_type": "code",
   "execution_count": null,
   "id": "ea636ef2",
   "metadata": {},
   "outputs": [],
   "source": [
    "# response = query_engine.query(\"Who is Tyler?\")\n",
    "# response = query_engine.query(\"How many documents are there?\")\n",
    "response = query_engine.query(\"What are the documents about?\")\n",
    "# print(response)\n",
    "print(response.response)\n",
    "# print(response.source_nodes)\n",
    "print(response.metadata)\n",
    "\n",
    "eval_result = evaluator.evaluate_response(response=response)\n",
    "print(eval_result)\n",
    "# print(str(eval_result.passing))"
   ]
  },
  {
   "cell_type": "code",
   "execution_count": null,
   "id": "953525b7",
   "metadata": {},
   "outputs": [],
   "source": [
    "retriever_evaluator = RetrieverEvaluator.from_metric_names(\n",
    "    [\"mrr\", \"hit_rate\", \"precision\", \"recall\", \"ap\"],\n",
    "    retriever=query_engine.retriever,\n",
    ")\n",
    "eval_result = retriever_evaluator.evaluate(\n",
    "    query=\"Who is Tyler?\",\n",
    "    expected_ids=[\n",
    "        # \"node_id1\",\n",
    "        # \"node_id2\",\n",
    "        \"13e70559-884b-4ea5-b318-36d53ff1caaa\",\n",
    "    ],\n",
    ")\n",
    "print(eval_result)"
   ]
  }
 ],
 "metadata": {
  "kernelspec": {
   "display_name": "rag313",
   "language": "python",
   "name": "python3"
  },
  "language_info": {
   "codemirror_mode": {
    "name": "ipython",
    "version": 3
   },
   "file_extension": ".py",
   "mimetype": "text/x-python",
   "name": "python",
   "nbconvert_exporter": "python",
   "pygments_lexer": "ipython3",
   "version": "3.13.2"
  }
 },
 "nbformat": 4,
 "nbformat_minor": 5
}
