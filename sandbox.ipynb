{
 "cells": [
  {
   "cell_type": "markdown",
   "id": "5275fb4f-12f6-4a58-972d-27fd761e04e5",
   "metadata": {},
   "source": [
    "# RAG Sandbox"
   ]
  },
  {
   "cell_type": "code",
   "execution_count": null,
   "id": "5b803e87-1280-4d6a-9dcd-84c8938e0a36",
   "metadata": {},
   "outputs": [],
   "source": [
    "import ollama"
   ]
  },
  {
   "cell_type": "code",
   "execution_count": null,
   "id": "bab620f9-3935-4ab3-a473-e58f0b37a4a6",
   "metadata": {},
   "outputs": [],
   "source": [
    "MODEL = \"llama3.2:1b\"\n",
    "# MODEL = \"deepseek-r1:1.5b\"\n",
    "# MODEL = \"gemma2:2b\"\n",
    "# MODEL = \"llama3.2:3b\"\n",
    "# MODEL = \"mistral:7b\"\n",
    "# MODEL = \"deepseek-r1:7b\"\n",
    "# MODEL = \"llama3.1:8b\"\n",
    "# MODEL = \"gemma2:9b\"\n",
    "# MODEL = \"phi4:14b\"\n",
    "# MODEL = \"deepseek-r1:14b\"\n",
    "# MODEL = \"llama3.3:70b\"\n",
    "\n",
    "EMBEDDER = \"all-minilm\" # 384\n",
    "# EMBEDDER = \"nomic-embed-text\" # 768\n",
    "# EMBEDDER = \"bge-m3\" # 1024\n",
    "# EMBEDDER = MODEL"
   ]
  },
  {
   "cell_type": "code",
   "execution_count": null,
   "id": "fb6e3d14-faf3-443b-82fe-f401a2baa245",
   "metadata": {},
   "outputs": [],
   "source": [
    "stream = ollama.chat(\n",
    "    model=MODEL,\n",
    "    messages=[{'role': 'user', 'content': 'Why is the sky blue?'}],\n",
    "    stream=True,\n",
    ")\n",
    "\n",
    "for chunk in stream:\n",
    "    print(chunk['message']['content'], end='', flush=True)"
   ]
  },
  {
   "cell_type": "code",
   "execution_count": null,
   "id": "1874d346-4ab4-4bd3-9b7c-865a64c74989",
   "metadata": {},
   "outputs": [],
   "source": [
    "embed_response = ollama.embed(\n",
    "    model=MODEL,\n",
    "    # model=EMBEDDER,\n",
    "    input=[\n",
    "        \"The sky is blue because of rayleigh scattering\",\n",
    "        \"Grass is green because of chlorophyll\",\n",
    "    ]\n",
    ")\n",
    "\n",
    "print(len(embed_response.embeddings))\n",
    "print(len(embed_response.embeddings[0]))"
   ]
  },
  {
   "cell_type": "code",
   "execution_count": null,
   "id": "603961a9-7bee-45c1-8f5c-6ec12d284f28",
   "metadata": {},
   "outputs": [],
   "source": []
  }
 ],
 "metadata": {
  "kernelspec": {
   "display_name": "rag313",
   "language": "python",
   "name": "rag313"
  },
  "language_info": {
   "codemirror_mode": {
    "name": "ipython",
    "version": 3
   },
   "file_extension": ".py",
   "mimetype": "text/x-python",
   "name": "python",
   "nbconvert_exporter": "python",
   "pygments_lexer": "ipython3",
   "version": "3.13.2"
  }
 },
 "nbformat": 4,
 "nbformat_minor": 5
}
